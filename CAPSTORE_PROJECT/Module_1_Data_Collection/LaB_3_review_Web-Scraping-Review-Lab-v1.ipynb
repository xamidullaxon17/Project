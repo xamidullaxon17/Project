{
 "cells": [
  {
   "cell_type": "markdown",
   "id": "d0d0d4be-4c9a-4eee-ac89-9489f8228ab2",
   "metadata": {},
   "source": [
    "<p style=\"text-align:center\">\n",
    "    <a href=\"https://skills.network/?utm_medium=Exinfluencer&utm_source=Exinfluencer&utm_content=000026UJ&utm_term=10006555&utm_id=NA-SkillsNetwork-Channel-SkillsNetworkCoursesIBMDA0321ENSkillsNetwork928-2022-01-01\" target=\"_blank\">\n",
    "    <img src=\"https://cf-courses-data.s3.us.cloud-object-storage.appdomain.cloud/assets/logos/SN_web_lightmode.png\" width=\"200\" alt=\"Skills Network Logo\"  />\n",
    "    </a>\n",
    "</p>\n"
   ]
  },
  {
   "cell_type": "markdown",
   "id": "3140d32b-b129-461e-8fcf-5a8c0653fcaf",
   "metadata": {},
   "source": [
    "# **Web Scraping Lab**\n"
   ]
  },
  {
   "cell_type": "markdown",
   "id": "9b7242f2-fd90-4a56-a9a3-e11f1f4fcda6",
   "metadata": {},
   "source": [
    "Estimated time needed: **30** minutes\n"
   ]
  },
  {
   "cell_type": "markdown",
   "id": "5e736eaa-b5c2-4499-b4ea-5af1c9f28f9e",
   "metadata": {},
   "source": [
    "## Objectives\n"
   ]
  },
  {
   "cell_type": "markdown",
   "id": "460ff8e9-2e7c-478f-840b-a5c3e719bbce",
   "metadata": {},
   "source": [
    "After completing this lab, you will be able to:\n"
   ]
  },
  {
   "cell_type": "markdown",
   "id": "cc53ed06-86bd-4326-80c5-8e4ba40c4e36",
   "metadata": {},
   "source": [
    "* Download a webpage using requests module\n",
    "* Scrape all links from a webpage\n",
    "* Scrape all image URLs from a web page\n",
    "* Scrape data from html tables\n"
   ]
  },
  {
   "cell_type": "markdown",
   "id": "e2177f20-d811-47dc-b9cd-1bea2d64e9e2",
   "metadata": {},
   "source": [
    "## Scrape www.ibm.com\n"
   ]
  },
  {
   "cell_type": "markdown",
   "id": "ad72ae21-a6e7-41e4-8f7c-638a6549b953",
   "metadata": {},
   "source": [
    "Import the required modules and functions\n"
   ]
  },
  {
   "cell_type": "code",
   "execution_count": 1,
   "id": "b6cb7b02-069c-4d57-99fc-4dd36124fc37",
   "metadata": {},
   "outputs": [],
   "source": [
    "from bs4 import BeautifulSoup # this module helps in web scrapping.\n",
    "import requests  # this module helps us to download a webpage"
   ]
  },
  {
   "cell_type": "markdown",
   "id": "2e49bb34-e7c5-465b-a8b5-302da36aa3d9",
   "metadata": {},
   "source": [
    "Download the contents of the webpage\n"
   ]
  },
  {
   "cell_type": "code",
   "execution_count": 2,
   "id": "c73b9728-5e51-44be-8bd1-02734092a563",
   "metadata": {},
   "outputs": [],
   "source": [
    "url = \"http://www.ibm.com\""
   ]
  },
  {
   "cell_type": "code",
   "execution_count": 3,
   "id": "5248ecb7-deea-4614-9414-e61b54b53c9a",
   "metadata": {},
   "outputs": [],
   "source": [
    "# get the contents of the webpage in text format and store in a variable called data\n",
    "data  = requests.get(url).text "
   ]
  },
  {
   "cell_type": "markdown",
   "id": "3c5e1004-6d07-4a91-b772-d304e9b44538",
   "metadata": {},
   "source": [
    "Create a soup object using the class BeautifulSoup\n"
   ]
  },
  {
   "cell_type": "code",
   "execution_count": 4,
   "id": "007f8636-f6af-44e6-b9b0-5f9b7f1d0b72",
   "metadata": {},
   "outputs": [],
   "source": [
    "soup = BeautifulSoup(data,\"html.parser\")  # create a soup object using the variable 'data'"
   ]
  },
  {
   "cell_type": "markdown",
   "id": "d91c3008-dc46-4256-af29-afa8f0ca5f6b",
   "metadata": {},
   "source": [
    "Scrape all links\n"
   ]
  },
  {
   "cell_type": "code",
   "execution_count": 8,
   "id": "22fd323d-0996-4eec-8fb5-7e491d3caea9",
   "metadata": {},
   "outputs": [
    {
     "name": "stdout",
     "output_type": "stream",
     "text": [
      "https://www.ibm.com/think/insights/lets-create-smarter-business?lnk=hpls1us\n",
      "https://www.ibm.com/thought-leadership/institute-business-value/report/2025-coo?lnk=hpls2us\n",
      "https://www.ibm.com/case-studies?lnk=hprc1us\n",
      "https://www.ibm.com/solutions/hybrid-cloud?lnk=hprc2us\n",
      "https://www.ibm.com/campaign/gen-ai-for-business?lnk=hprc3us\n",
      "https://www.ibm.com/new/announcements/ibm-named-a-leader-in-the-forrester-wave-integration-platform-as-a-service?lnk=hprc4us\n",
      "https://www.ibm.com/community/ibm-techxchange-conference/?lnk=hpdev1us\n",
      "https://github.com/ibm-granite-community/granite-snack-cookbook?lnk=hpdev2us\n",
      "https://developer.ibm.com/technologies/artificial-intelligence/?lnk=hpdev3us\n",
      "https://www.ibm.com/account/reg/signup?formid=urx-51898&lnk=hpdev4us\n",
      "https://www.ibm.com/new/announcements/openai-s-open-source-models-available-on-ibm-watsonx-ai?lnk=hpdev5us\n",
      "https://research.ibm.com/blog/granite-vision-ocr-leaderboard?lnk=hpdev6us\n",
      "https://www.ibm.com/new/announcements/governing-ai-with-confidence-our-journey-with-watsonx-governance?lnk=hpdev7us\n",
      "https://www.ibm.com/products/watsonx-code-assistant/pricing?lnk=hpdev8us\n",
      "https://www.ibm.com/products/offers-and-discounts?lnk=hpdo1us\n",
      "https://www.ibm.com/software?lnk=hpfp1us\n",
      "https://www.ibm.com/solutions/ai-agents?lnk=hpfp2us\n",
      "https://www.ibm.com/solutions/data-and-ai?lnk=hpfp3us\n",
      "https://www.ibm.com/solutions/automation?lnk=hpfp4us\n",
      "https://www.ibm.com/solutions/hybrid-cloud?lnk=hpfp5us\n",
      "https://www.ibm.com/solutions/ai-models?lnk=hpfp6us\n",
      "https://www.ibm.com/solutions/analytics?lnk=hpfp7us\n",
      "https://www.ibm.com/solutions/security?lnk=hpfp8us\n",
      "https://www.ibm.com/consulting?lnk=hpfp9us\n",
      "https://www.ibm.com/about?lnk=hpii1us\n",
      "https://www.ibm.com/history?lnk=hpii1us\n",
      "https://research.ibm.com?lnk=hpii1us\n",
      "https://www.ibm.com/quantum?lnk=hpii1us\n",
      "https://www.ibm.com/careers?lnk=hpii1us\n",
      "https://skillsbuild.org?lnk=hpii1us\n"
     ]
    }
   ],
   "source": [
    "for link in soup.find_all('a'):  # in html anchor/link is represented by the tag <a>\n",
    "    print(link.get('href'))\n"
   ]
  },
  {
   "cell_type": "markdown",
   "id": "4c8ff42a-b9dd-477a-9fd9-ef11aa09b924",
   "metadata": {},
   "source": [
    "Scrape  all images\n"
   ]
  },
  {
   "cell_type": "code",
   "execution_count": 9,
   "id": "eb7a7aa9-aa11-42c0-b820-8ee4dfe9b03f",
   "metadata": {},
   "outputs": [
    {
     "name": "stdout",
     "output_type": "stream",
     "text": [
      "https://assets.ibm.com/is/image/ibm/homepage-smarterbusiness-r4u-1?ts=1757421775193&dpr=off\n",
      "https://assets.ibm.com/is/image/ibm/homepage-smarterbusiness-r4u-2?ts=1757421770264&dpr=off\n",
      "https://assets.ibm.com/is/image/ibm/homepage-smarterbusiness-r4u-3?ts=1757421771008&dpr=off\n",
      "https://assets.ibm.com/is/image/ibm/homepage-smarterbusiness-r4u-4?ts=1757421779063&dpr=off\n",
      "https://assets.ibm.com/is/image/ibm/big-blue-for-you-promo?ts=1757421783987&dpr=off\n",
      "https://assets.ibm.com/is/image/ibm/sb-subscribe-16-9?ts=1757421792351&dpr=off\n"
     ]
    }
   ],
   "source": [
    "for link in soup.find_all('img'):# in html image is represented by the tag <img>\n",
    "    print(link.get('src'))"
   ]
  },
  {
   "cell_type": "markdown",
   "id": "93b6e989-b9e0-4140-96f5-bfd3edec7cd5",
   "metadata": {},
   "source": [
    "## Scrape data from html tables\n"
   ]
  },
  {
   "cell_type": "code",
   "execution_count": 10,
   "id": "faaf7fe2-dfa0-4134-9230-fe401c89ccb2",
   "metadata": {},
   "outputs": [],
   "source": [
    "#The below URL contains a html table with data about colors and color codes.\n",
    "URL = \"https://cf-courses-data.s3.us.cloud-object-storage.appdomain.cloud/IBM-DA0321EN-SkillsNetwork/labs/datasets/HTMLColorCodes.html\"\n"
   ]
  },
  {
   "cell_type": "markdown",
   "id": "6a005d4e-a6e6-4d47-96ec-3783d7d41672",
   "metadata": {},
   "source": [
    "Before proceeding to scrape a website, you need to examine the contents, and the way data is organized on the website. Open the above URL in your browser and check how many rows and columns are there in the color table.\n"
   ]
  },
  {
   "cell_type": "code",
   "execution_count": 11,
   "id": "b6763992-38dc-46fa-9664-b483dd7e1f0e",
   "metadata": {},
   "outputs": [],
   "source": [
    "# get the contents of the webpage in text format and store in a variable called data\n",
    "data  = requests.get(URL).text"
   ]
  },
  {
   "cell_type": "code",
   "execution_count": 12,
   "id": "4c62f754-650e-4bb7-ba75-51f0b6faa22e",
   "metadata": {},
   "outputs": [],
   "source": [
    "soup = BeautifulSoup(data,\"html.parser\")"
   ]
  },
  {
   "cell_type": "code",
   "execution_count": 13,
   "id": "0dc1c619-4c4b-4a67-be2d-19318b04d099",
   "metadata": {},
   "outputs": [],
   "source": [
    "#find a html table in the web page\n",
    "table = soup.find('table') # in html table is represented by the tag <table>"
   ]
  },
  {
   "cell_type": "markdown",
   "id": "c6b5dae8-4e42-4712-b3a1-477aaee5e0b5",
   "metadata": {},
   "source": [
    "# Get all rows from the table\n"
   ]
  },
  {
   "cell_type": "code",
   "execution_count": 14,
   "id": "c93f99a2-6649-42f6-8cb4-5147ab5f798b",
   "metadata": {},
   "outputs": [
    {
     "name": "stdout",
     "output_type": "stream",
     "text": [
      "Color Name--->Hex Code#RRGGBB\n",
      "lightsalmon--->#FFA07A\n",
      "salmon--->#FA8072\n",
      "darksalmon--->#E9967A\n",
      "lightcoral--->#F08080\n",
      "coral--->#FF7F50\n",
      "tomato--->#FF6347\n",
      "orangered--->#FF4500\n",
      "gold--->#FFD700\n",
      "orange--->#FFA500\n",
      "darkorange--->#FF8C00\n",
      "lightyellow--->#FFFFE0\n",
      "lemonchiffon--->#FFFACD\n",
      "papayawhip--->#FFEFD5\n",
      "moccasin--->#FFE4B5\n",
      "peachpuff--->#FFDAB9\n",
      "palegoldenrod--->#EEE8AA\n",
      "khaki--->#F0E68C\n",
      "darkkhaki--->#BDB76B\n",
      "yellow--->#FFFF00\n",
      "lawngreen--->#7CFC00\n",
      "chartreuse--->#7FFF00\n",
      "limegreen--->#32CD32\n",
      "lime--->#00FF00\n",
      "forestgreen--->#228B22\n",
      "green--->#008000\n",
      "powderblue--->#B0E0E6\n",
      "lightblue--->#ADD8E6\n",
      "lightskyblue--->#87CEFA\n",
      "skyblue--->#87CEEB\n",
      "deepskyblue--->#00BFFF\n",
      "lightsteelblue--->#B0C4DE\n",
      "dodgerblue--->#1E90FF\n"
     ]
    }
   ],
   "source": [
    "for row in table.find_all('tr'): # in html table row is represented by the tag <tr>\n",
    "    # Get all columns in each row.\n",
    "    cols = row.find_all('td') # in html a column is represented by the tag <td>\n",
    "    color_name = cols[2].getText() # store the value in column 3 as color_name\n",
    "    color_code = cols[3].getText() # store the value in column 4 as color_code\n",
    "    print(\"{}--->{}\".format(color_name,color_code))"
   ]
  },
  {
   "cell_type": "markdown",
   "id": "50165b71-a382-4b3a-bc63-dd04ff3048a2",
   "metadata": {},
   "source": [
    "## Authors\n"
   ]
  },
  {
   "cell_type": "markdown",
   "id": "3f7da006-ea15-4eec-a4cb-533ba3b8a631",
   "metadata": {},
   "source": [
    "Ramesh Sannareddy\n"
   ]
  },
  {
   "cell_type": "markdown",
   "id": "237c83ed-9ab8-49fc-9c1a-3e4a7e595d7e",
   "metadata": {},
   "source": [
    "### Other Contributors\n"
   ]
  },
  {
   "cell_type": "markdown",
   "id": "0626cc60-5e9f-4ae5-b9ac-a1ae07c1ae46",
   "metadata": {},
   "source": [
    "Rav Ahuja\n"
   ]
  },
  {
   "cell_type": "markdown",
   "id": "75594970-faa1-4425-8a04-e97c28fdd124",
   "metadata": {},
   "source": [
    "<!--\n",
    "## Change Log\n",
    "|  Date (YYYY-MM-DD) |  Version | Changed By  |  Change Description |\n",
    "|---|---|---|---|\n",
    "| 2024-10-29  | 0.2  | Madhusudhan Moole |  Updated lab |\n",
    "| 2020-10-17  | 0.1  | Ramesh Sannareddy  |  Created initial version of the lab |\n",
    "--!>\n"
   ]
  },
  {
   "cell_type": "markdown",
   "id": "f4b2c5da-d203-4239-889c-21a999f6cabd",
   "metadata": {},
   "source": [
    "Copyright © IBM Corporation. All rights reserved.\n"
   ]
  }
 ],
 "metadata": {
  "kernelspec": {
   "display_name": "Python 3",
   "language": "python",
   "name": "python3"
  },
  "language_info": {
   "codemirror_mode": {
    "name": "ipython",
    "version": 3
   },
   "file_extension": ".py",
   "mimetype": "text/x-python",
   "name": "python",
   "nbconvert_exporter": "python",
   "pygments_lexer": "ipython3",
   "version": "3.8.10"
  },
  "prev_pub_hash": "47f9ffc1b763f98e682ac3a01d2e9180987012a5e050cb2d84fe1df3c67f42fb"
 },
 "nbformat": 4,
 "nbformat_minor": 4
}
