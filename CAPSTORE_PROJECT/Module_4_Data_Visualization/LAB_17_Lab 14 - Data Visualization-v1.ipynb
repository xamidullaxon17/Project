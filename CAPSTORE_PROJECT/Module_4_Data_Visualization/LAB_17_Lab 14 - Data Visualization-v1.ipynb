{
 "cells": [
  {
   "cell_type": "markdown",
   "id": "4d2ce78b-40a7-4363-9aea-c6c1f9324a7c",
   "metadata": {},
   "source": [
    "<p style=\"text-align:center\">\n",
    "    <a href=\"https://skills.network\" target=\"_blank\">\n",
    "    <img src=\"https://cf-courses-data.s3.us.cloud-object-storage.appdomain.cloud/assets/logos/SN_web_lightmode.png\" width=\"200\" alt=\"Skills Network Logo\"  />\n",
    "    </a>\n",
    "</p>\n"
   ]
  },
  {
   "cell_type": "markdown",
   "id": "c4160cb7-73b3-4e94-ba94-714f57cc8ccc",
   "metadata": {},
   "source": [
    "# **Histogram**\n"
   ]
  },
  {
   "cell_type": "markdown",
   "id": "8f840a52-f907-4a8c-8fb9-4183369f0b5b",
   "metadata": {},
   "source": [
    "Estimated time needed: **45** minutes\n"
   ]
  },
  {
   "cell_type": "markdown",
   "id": "82f3df4b-0a3c-4772-9525-2bb8b72933fd",
   "metadata": {},
   "source": [
    "In this lab, you will focus on the visualization of data. The dataset will be provided through an RDBMS, and you will need to use SQL queries to extract the required data.\n"
   ]
  },
  {
   "cell_type": "markdown",
   "id": "faabc707-b5e9-45d9-adaf-44fb661c767f",
   "metadata": {},
   "source": [
    "## Objectives\n"
   ]
  },
  {
   "cell_type": "markdown",
   "id": "ee4cd77e-d344-4c00-ad61-65dd788f161b",
   "metadata": {},
   "source": [
    "In this lab, you will perform the following:\n"
   ]
  },
  {
   "cell_type": "markdown",
   "id": "379c3966-78ce-4eab-a583-e6908bcd27a0",
   "metadata": {},
   "source": [
    "- Visualize the distribution of data using histograms.\n",
    "\n",
    "- Visualize relationships between features.\n",
    "\n",
    "- Explore data composition and comparisons.\n"
   ]
  },
  {
   "cell_type": "markdown",
   "id": "f5a325a8-13f6-484a-957b-f6db9c27949a",
   "metadata": {},
   "source": [
    "## Demo: Working with database\n"
   ]
  },
  {
   "cell_type": "markdown",
   "id": "721166fd-cce2-4256-8e98-651a099ee2fd",
   "metadata": {},
   "source": [
    "#### Download the database file.\n"
   ]
  },
  {
   "cell_type": "code",
   "execution_count": 1,
   "id": "5471688f-c436-4d22-a99b-db76c8b215f0",
   "metadata": {},
   "outputs": [
    {
     "name": "stderr",
     "output_type": "stream",
     "text": [
      "'wget' is not recognized as an internal or external command,\n",
      "operable program or batch file.\n"
     ]
    }
   ],
   "source": [
    "!wget -O survey-data.sqlite https://cf-courses-data.s3.us.cloud-object-storage.appdomain.cloud/QR9YeprUYhOoLafzlLspAw/survey-results-public.sqlite"
   ]
  },
  {
   "cell_type": "markdown",
   "id": "f9aa5390-80e9-46aa-88d4-60c75f3fcee1",
   "metadata": {},
   "source": [
    "#### Install the required libraries and import them\n"
   ]
  },
  {
   "cell_type": "code",
   "execution_count": 2,
   "id": "944c6653-b7db-4c32-a53f-15b5b5004ba5",
   "metadata": {},
   "outputs": [],
   "source": [
    "import sqlite3\n",
    "import pandas as pd\n",
    "import matplotlib.pyplot as plt\n",
    "import seaborn as sns"
   ]
  },
  {
   "cell_type": "markdown",
   "id": "5c4220f9-44ca-4e8f-b941-7d61150284ab",
   "metadata": {},
   "source": [
    "#### Connect to the SQLite database\n"
   ]
  },
  {
   "cell_type": "code",
   "execution_count": 3,
   "id": "d7e17429-6b4d-4ada-a8ab-73ba23808189",
   "metadata": {},
   "outputs": [],
   "source": [
    "conn = sqlite3.connect('survey-data.sqlite')"
   ]
  },
  {
   "cell_type": "markdown",
   "id": "0f12beb1-c9a9-4249-b963-897677eca67c",
   "metadata": {},
   "source": [
    "## Demo: Basic SQL queries\n",
    "\n",
    "**Demo 1: Count the number of rows in the table**\n"
   ]
  },
  {
   "cell_type": "code",
   "execution_count": 4,
   "id": "9df5029d-29cb-49cc-83dd-ecaae5604a3c",
   "metadata": {},
   "outputs": [
    {
     "name": "stdout",
     "output_type": "stream",
     "text": [
      "   COUNT(*)\n",
      "0     65437\n"
     ]
    }
   ],
   "source": [
    "QUERY = \"SELECT COUNT(*) FROM main\"\n",
    "df = pd.read_sql_query(QUERY, conn)\n",
    "print(df)\n"
   ]
  },
  {
   "cell_type": "markdown",
   "id": "765c445b-6c1e-41e5-803d-159ac3615859",
   "metadata": {},
   "source": [
    "**Demo 2: List all tables**\n"
   ]
  },
  {
   "cell_type": "code",
   "execution_count": 5,
   "id": "30156406-fae0-4164-be77-e657e1621f38",
   "metadata": {},
   "outputs": [
    {
     "data": {
      "text/html": [
       "<div>\n",
       "<style scoped>\n",
       "    .dataframe tbody tr th:only-of-type {\n",
       "        vertical-align: middle;\n",
       "    }\n",
       "\n",
       "    .dataframe tbody tr th {\n",
       "        vertical-align: top;\n",
       "    }\n",
       "\n",
       "    .dataframe thead th {\n",
       "        text-align: right;\n",
       "    }\n",
       "</style>\n",
       "<table border=\"1\" class=\"dataframe\">\n",
       "  <thead>\n",
       "    <tr style=\"text-align: right;\">\n",
       "      <th></th>\n",
       "      <th>Table_Name</th>\n",
       "    </tr>\n",
       "  </thead>\n",
       "  <tbody>\n",
       "    <tr>\n",
       "      <th>0</th>\n",
       "      <td>main</td>\n",
       "    </tr>\n",
       "  </tbody>\n",
       "</table>\n",
       "</div>"
      ],
      "text/plain": [
       "  Table_Name\n",
       "0       main"
      ]
     },
     "execution_count": 5,
     "metadata": {},
     "output_type": "execute_result"
    }
   ],
   "source": [
    "QUERY = \"\"\"\n",
    "SELECT name as Table_Name \n",
    "FROM sqlite_master \n",
    "WHERE type = 'table'\n",
    "\"\"\"\n",
    "pd.read_sql_query(QUERY, conn)\n"
   ]
  },
  {
   "cell_type": "markdown",
   "id": "fe978851-e430-46b5-9db3-c49bb448bc8a",
   "metadata": {},
   "source": [
    "**Demo 3: Group data by age**\n"
   ]
  },
  {
   "cell_type": "code",
   "execution_count": 6,
   "id": "5f6b9e14-8baf-490a-8346-4c4373bfc024",
   "metadata": {},
   "outputs": [
    {
     "name": "stdout",
     "output_type": "stream",
     "text": [
      "                  Age  count\n",
      "0     18-24 years old  14098\n",
      "1     25-34 years old  23911\n",
      "2     35-44 years old  14942\n",
      "3     45-54 years old   6249\n",
      "4     55-64 years old   2575\n",
      "5   65 years or older    772\n",
      "6   Prefer not to say    322\n",
      "7  Under 18 years old   2568\n"
     ]
    }
   ],
   "source": [
    "QUERY = \"\"\"\n",
    "SELECT Age, COUNT(*) as count \n",
    "FROM main \n",
    "GROUP BY Age \n",
    "ORDER BY Age\n",
    "\"\"\"\n",
    "df_age = pd.read_sql_query(QUERY, conn)\n",
    "print(df_age)\n"
   ]
  },
  {
   "cell_type": "markdown",
   "id": "7d3af15d-b0fb-439b-b1d6-ffbf9169e01b",
   "metadata": {},
   "source": [
    "## Hands-on Lab: Visualizing Data with Histograms\n"
   ]
  },
  {
   "cell_type": "markdown",
   "id": "7b4deb98-f9d1-4f7b-8236-b7f87c4b2f96",
   "metadata": {},
   "source": [
    "### 1. Visualizing the distribution of data (Histograms)\n"
   ]
  },
  {
   "cell_type": "markdown",
   "id": "dc66fcda-57b7-470e-a80a-b9e257aa0914",
   "metadata": {},
   "source": [
    "**1.1 Histogram of `CompTotal` (Total Compensation)**\n"
   ]
  },
  {
   "cell_type": "markdown",
   "id": "589557b4-1212-4c9b-ba51-54a6397ce05c",
   "metadata": {},
   "source": [
    "Objective: Plot a histogram of `CompTotal` to visualize the distribution of respondents' total compensation.\n"
   ]
  },
  {
   "cell_type": "code",
   "execution_count": 7,
   "id": "1daa0039-8b19-4180-933f-51f78dd5dfa9",
   "metadata": {},
   "outputs": [
    {
     "data": {
      "text/html": [
       "<div>\n",
       "<style scoped>\n",
       "    .dataframe tbody tr th:only-of-type {\n",
       "        vertical-align: middle;\n",
       "    }\n",
       "\n",
       "    .dataframe tbody tr th {\n",
       "        vertical-align: top;\n",
       "    }\n",
       "\n",
       "    .dataframe thead th {\n",
       "        text-align: right;\n",
       "    }\n",
       "</style>\n",
       "<table border=\"1\" class=\"dataframe\">\n",
       "  <thead>\n",
       "    <tr style=\"text-align: right;\">\n",
       "      <th></th>\n",
       "      <th>CompTotal</th>\n",
       "    </tr>\n",
       "  </thead>\n",
       "  <tbody>\n",
       "    <tr>\n",
       "      <th>0</th>\n",
       "      <td>2040000.0</td>\n",
       "    </tr>\n",
       "    <tr>\n",
       "      <th>1</th>\n",
       "      <td>28000.0</td>\n",
       "    </tr>\n",
       "    <tr>\n",
       "      <th>2</th>\n",
       "      <td>85000.0</td>\n",
       "    </tr>\n",
       "    <tr>\n",
       "      <th>3</th>\n",
       "      <td>50000.0</td>\n",
       "    </tr>\n",
       "    <tr>\n",
       "      <th>4</th>\n",
       "      <td>110000.0</td>\n",
       "    </tr>\n",
       "    <tr>\n",
       "      <th>...</th>\n",
       "      <td>...</td>\n",
       "    </tr>\n",
       "    <tr>\n",
       "      <th>33735</th>\n",
       "      <td>36000.0</td>\n",
       "    </tr>\n",
       "    <tr>\n",
       "      <th>33736</th>\n",
       "      <td>40000.0</td>\n",
       "    </tr>\n",
       "    <tr>\n",
       "      <th>33737</th>\n",
       "      <td>61000.0</td>\n",
       "    </tr>\n",
       "    <tr>\n",
       "      <th>33738</th>\n",
       "      <td>58000.0</td>\n",
       "    </tr>\n",
       "    <tr>\n",
       "      <th>33739</th>\n",
       "      <td>55000.0</td>\n",
       "    </tr>\n",
       "  </tbody>\n",
       "</table>\n",
       "<p>33740 rows × 1 columns</p>\n",
       "</div>"
      ],
      "text/plain": [
       "       CompTotal\n",
       "0      2040000.0\n",
       "1        28000.0\n",
       "2        85000.0\n",
       "3        50000.0\n",
       "4       110000.0\n",
       "...          ...\n",
       "33735    36000.0\n",
       "33736    40000.0\n",
       "33737    61000.0\n",
       "33738    58000.0\n",
       "33739    55000.0\n",
       "\n",
       "[33740 rows x 1 columns]"
      ]
     },
     "execution_count": 7,
     "metadata": {},
     "output_type": "execute_result"
    }
   ],
   "source": [
    "query = \"\"\"\n",
    "SELECT CompTotal\n",
    "FROM main\n",
    "WHERE CompTotal IS NOT NULL\n",
    "\"\"\"\n",
    "comp = pd.read_sql(query, conn)\n",
    "comp"
   ]
  },
  {
   "cell_type": "code",
   "execution_count": 8,
   "metadata": {},
   "outputs": [
    {
     "data": {
      "image/png": "[encoded data removed]",
      "text/plain": [
       "<Figure size 1000x600 with 1 Axes>"
      ]
     },
     "metadata": {},
     "output_type": "display_data"
    }
   ],
   "source": [
    "plt.figure(figsize=(10,6))\n",
    "sns.histplot(comp[comp['CompTotal'] < 50000], bins=50, kde=True)\n",
    "plt.show()"
   ]
  },
  {
   "cell_type": "markdown",
   "id": "242c942e-45aa-4e2a-91d1-2c6299f3665e",
   "metadata": {},
   "source": [
    "**1.2 Histogram of YearsCodePro (Years of Professional Coding Experience)**\n"
   ]
  },
  {
   "cell_type": "markdown",
   "id": "2d7a9528-8048-42ca-9f23-7c6d1c1066e4",
   "metadata": {},
   "source": [
    "Objective: Plot a histogram of `YearsCodePro` to analyze the distribution of coding experience among respondents.\n"
   ]
  },
  {
   "cell_type": "code",
   "execution_count": 9,
   "id": "0930d22a-979c-463c-93b2-55cbbf8876d1",
   "metadata": {},
   "outputs": [
    {
     "data": {
      "text/plain": [
       "YearsCodePro      \n",
       "2                     4168\n",
       "3                     4093\n",
       "5                     3526\n",
       "10                    3251\n",
       "4                     3215\n",
       "Less than 1 year      2856\n",
       "6                     2843\n",
       "1                     2639\n",
       "8                     2549\n",
       "7                     2517\n",
       "12                    1777\n",
       "15                    1635\n",
       "20                    1549\n",
       "9                     1493\n",
       "11                    1312\n",
       "13                    1127\n",
       "14                    1082\n",
       "25                     998\n",
       "16                     946\n",
       "18                     867\n",
       "17                     814\n",
       "30                     689\n",
       "24                     632\n",
       "19                     516\n",
       "22                     492\n",
       "23                     448\n",
       "26                     426\n",
       "27                     380\n",
       "21                     380\n",
       "28                     342\n",
       "35                     285\n",
       "29                     196\n",
       "32                     194\n",
       "40                     194\n",
       "34                     169\n",
       "38                     134\n",
       "33                     132\n",
       "36                     119\n",
       "31                     106\n",
       "37                     104\n",
       "45                      56\n",
       "42                      55\n",
       "39                      54\n",
       "41                      51\n",
       "More than 50 years      50\n",
       "44                      42\n",
       "43                      37\n",
       "46                      21\n",
       "48                      14\n",
       "50                      14\n",
       "49                      11\n",
       "47                      10\n",
       "Name: count, dtype: int64"
      ]
     },
     "execution_count": 9,
     "metadata": {},
     "output_type": "execute_result"
    }
   ],
   "source": [
    "query = \"\"\"\n",
    "SELECT YearsCodePro\n",
    "FROM main\n",
    "WHERE YearsCodePro IS NOT NULL\n",
    "\"\"\"\n",
    "years_code = pd.read_sql(query, conn)\n",
    "years_code.value_counts()"
   ]
  },
  {
   "cell_type": "code",
   "execution_count": 10,
   "metadata": {},
   "outputs": [
    {
     "data": {
      "text/plain": [
       "YearsCodePro\n",
       "2               4168\n",
       "3               4093\n",
       "5               3526\n",
       "10              3251\n",
       "4               3215\n",
       "0               2856\n",
       "6               2843\n",
       "1               2639\n",
       "8               2549\n",
       "7               2517\n",
       "12              1777\n",
       "15              1635\n",
       "20              1549\n",
       "9               1493\n",
       "11              1312\n",
       "13              1127\n",
       "14              1082\n",
       "25               998\n",
       "16               946\n",
       "18               867\n",
       "17               814\n",
       "30               689\n",
       "24               632\n",
       "19               516\n",
       "22               492\n",
       "23               448\n",
       "26               426\n",
       "27               380\n",
       "21               380\n",
       "28               342\n",
       "35               285\n",
       "29               196\n",
       "32               194\n",
       "40               194\n",
       "34               169\n",
       "38               134\n",
       "33               132\n",
       "36               119\n",
       "31               106\n",
       "37               104\n",
       "45                56\n",
       "42                55\n",
       "39                54\n",
       "41                51\n",
       "51                50\n",
       "44                42\n",
       "43                37\n",
       "46                21\n",
       "48                14\n",
       "50                14\n",
       "49                11\n",
       "47                10\n",
       "Name: count, dtype: int64"
      ]
     },
     "execution_count": 10,
     "metadata": {},
     "output_type": "execute_result"
    }
   ],
   "source": [
    "def convert_year(year):\n",
    "    if year == 'Less than 1 year':\n",
    "        return 0\n",
    "    elif year == 'More than 50 years':\n",
    "        return 51\n",
    "    else:\n",
    "        try:\n",
    "            return int(year)\n",
    "        except:\n",
    "            return None\n",
    "years_code['YearsCodePro'] = years_code['YearsCodePro'].apply(convert_year)\n",
    "years_code.value_counts()"
   ]
  },
  {
   "cell_type": "code",
   "execution_count": 11,
   "metadata": {},
   "outputs": [
    {
     "data": {
      "image/png": "[encoded data removed]",
      "text/plain": [
       "<Figure size 1000x600 with 1 Axes>"
      ]
     },
     "metadata": {},
     "output_type": "display_data"
    }
   ],
   "source": [
    "plt.figure(figsize=(10,6))\n",
    "sns.histplot(years_code['YearsCodePro'], bins=50, kde=True)\n",
    "plt.show()"
   ]
  },
  {
   "cell_type": "markdown",
   "id": "f645af2e-ceb4-4e1e-aefb-572ea8a65a98",
   "metadata": {},
   "source": [
    "### 2. Visualizing Relationships in Data\n"
   ]
  },
  {
   "cell_type": "markdown",
   "id": "b2d531f9-0f18-4487-b69d-d2a9b738d725",
   "metadata": {},
   "source": [
    "**2.1 Histogram Comparison of `CompTotal` by `Age` Group**\n"
   ]
  },
  {
   "cell_type": "markdown",
   "id": "c98c39ad-7c59-4047-8b86-ef7268502cf6",
   "metadata": {},
   "source": [
    "Objective: Use histograms to compare the distribution of CompTotal across different Age groups.\n"
   ]
  },
  {
   "cell_type": "code",
   "execution_count": 12,
   "id": "ae71d0c9-dc83-4223-b3d4-496cdbf01106",
   "metadata": {},
   "outputs": [
    {
     "data": {
      "text/html": [
       "<div>\n",
       "<style scoped>\n",
       "    .dataframe tbody tr th:only-of-type {\n",
       "        vertical-align: middle;\n",
       "    }\n",
       "\n",
       "    .dataframe tbody tr th {\n",
       "        vertical-align: top;\n",
       "    }\n",
       "\n",
       "    .dataframe thead th {\n",
       "        text-align: right;\n",
       "    }\n",
       "</style>\n",
       "<table border=\"1\" class=\"dataframe\">\n",
       "  <thead>\n",
       "    <tr style=\"text-align: right;\">\n",
       "      <th></th>\n",
       "      <th>CompTotal</th>\n",
       "      <th>Age</th>\n",
       "    </tr>\n",
       "  </thead>\n",
       "  <tbody>\n",
       "    <tr>\n",
       "      <th>1</th>\n",
       "      <td>28000.0</td>\n",
       "      <td>25-34 years old</td>\n",
       "    </tr>\n",
       "    <tr>\n",
       "      <th>2</th>\n",
       "      <td>85000.0</td>\n",
       "      <td>35-44 years old</td>\n",
       "    </tr>\n",
       "    <tr>\n",
       "      <th>3</th>\n",
       "      <td>50000.0</td>\n",
       "      <td>35-44 years old</td>\n",
       "    </tr>\n",
       "    <tr>\n",
       "      <th>6</th>\n",
       "      <td>95000.0</td>\n",
       "      <td>45-54 years old</td>\n",
       "    </tr>\n",
       "    <tr>\n",
       "      <th>8</th>\n",
       "      <td>35000.0</td>\n",
       "      <td>35-44 years old</td>\n",
       "    </tr>\n",
       "    <tr>\n",
       "      <th>...</th>\n",
       "      <td>...</td>\n",
       "      <td>...</td>\n",
       "    </tr>\n",
       "    <tr>\n",
       "      <th>33735</th>\n",
       "      <td>36000.0</td>\n",
       "      <td>18-24 years old</td>\n",
       "    </tr>\n",
       "    <tr>\n",
       "      <th>33736</th>\n",
       "      <td>40000.0</td>\n",
       "      <td>25-34 years old</td>\n",
       "    </tr>\n",
       "    <tr>\n",
       "      <th>33737</th>\n",
       "      <td>61000.0</td>\n",
       "      <td>25-34 years old</td>\n",
       "    </tr>\n",
       "    <tr>\n",
       "      <th>33738</th>\n",
       "      <td>58000.0</td>\n",
       "      <td>35-44 years old</td>\n",
       "    </tr>\n",
       "    <tr>\n",
       "      <th>33739</th>\n",
       "      <td>55000.0</td>\n",
       "      <td>45-54 years old</td>\n",
       "    </tr>\n",
       "  </tbody>\n",
       "</table>\n",
       "<p>16821 rows × 2 columns</p>\n",
       "</div>"
      ],
      "text/plain": [
       "       CompTotal              Age\n",
       "1        28000.0  25-34 years old\n",
       "2        85000.0  35-44 years old\n",
       "3        50000.0  35-44 years old\n",
       "6        95000.0  45-54 years old\n",
       "8        35000.0  35-44 years old\n",
       "...          ...              ...\n",
       "33735    36000.0  18-24 years old\n",
       "33736    40000.0  25-34 years old\n",
       "33737    61000.0  25-34 years old\n",
       "33738    58000.0  35-44 years old\n",
       "33739    55000.0  45-54 years old\n",
       "\n",
       "[16821 rows x 2 columns]"
      ]
     },
     "execution_count": 12,
     "metadata": {},
     "output_type": "execute_result"
    }
   ],
   "source": [
    "query = \"\"\"\n",
    "SELECT CompTotal, Age\n",
    "FROM main\n",
    "WHERE Age IS NOT NULL AND CompTotal IS NOT NULL\n",
    "\"\"\"\n",
    "age_comp = pd.read_sql(query, conn)\n",
    "age_comp = age_comp[age_comp['CompTotal'] < 110000]\n",
    "age_comp"
   ]
  },
  {
   "cell_type": "code",
   "execution_count": 13,
   "metadata": {},
   "outputs": [
    {
     "data": {
      "image/png": "[encoded data removed]",
      "text/plain": [
       "<Figure size 1200x700 with 1 Axes>"
      ]
     },
     "metadata": {},
     "output_type": "display_data"
    }
   ],
   "source": [
    "plt.figure(figsize=(12,7))\n",
    "sns.histplot(data=age_comp, x='CompTotal', hue='Age', bins=50)\n",
    "plt.show()"
   ]
  },
  {
   "cell_type": "markdown",
   "id": "3bd917b0-c623-401b-b2fd-75b0c11a2e71",
   "metadata": {},
   "source": [
    "**2.2 Histogram of TimeSearching for Different Age Groups**\n"
   ]
  },
  {
   "cell_type": "markdown",
   "id": "800c7626-0694-41c9-a61e-dec6a8f90fce",
   "metadata": {},
   "source": [
    "Objective: Use histograms to explore the distribution of `TimeSearching` (time spent searching for information) for respondents across different age groups.\n"
   ]
  },
  {
   "cell_type": "code",
   "execution_count": 14,
   "id": "9b8d9b8a-7a7a-4825-9e9c-0d2bbbf0ad1c",
   "metadata": {},
   "outputs": [
    {
     "data": {
      "text/plain": [
       "TimeSearching\n",
       "30-60 minutes a day           10951\n",
       "15-30 minutes a day            7805\n",
       "60-120 minutes a day           5275\n",
       "Less than 15 minutes a day     2689\n",
       "Over 120 minutes a day         2191\n",
       "Name: count, dtype: int64"
      ]
     },
     "execution_count": 14,
     "metadata": {},
     "output_type": "execute_result"
    }
   ],
   "source": [
    "query = \"\"\"\n",
    "SELECT TimeSearching, Age\n",
    "FROM main\n",
    "WHERE TimeSearching IS NOT NULL AND Age IS NOT NULL\n",
    "\"\"\"\n",
    "time_age = pd.read_sql(query, conn)\n",
    "time_age['TimeSearching'].value_counts()"
   ]
  },
  {
   "cell_type": "code",
   "execution_count": 15,
   "metadata": {},
   "outputs": [
    {
     "data": {
      "text/html": [
       "<div>\n",
       "<style scoped>\n",
       "    .dataframe tbody tr th:only-of-type {\n",
       "        vertical-align: middle;\n",
       "    }\n",
       "\n",
       "    .dataframe tbody tr th {\n",
       "        vertical-align: top;\n",
       "    }\n",
       "\n",
       "    .dataframe thead th {\n",
       "        text-align: right;\n",
       "    }\n",
       "</style>\n",
       "<table border=\"1\" class=\"dataframe\">\n",
       "  <thead>\n",
       "    <tr style=\"text-align: right;\">\n",
       "      <th></th>\n",
       "      <th>TimeSearching</th>\n",
       "      <th>Age</th>\n",
       "      <th>TimeSearchingHours</th>\n",
       "    </tr>\n",
       "  </thead>\n",
       "  <tbody>\n",
       "    <tr>\n",
       "      <th>0</th>\n",
       "      <td>30-60 minutes a day</td>\n",
       "      <td>35-44 years old</td>\n",
       "      <td>0.750</td>\n",
       "    </tr>\n",
       "    <tr>\n",
       "      <th>1</th>\n",
       "      <td>30-60 minutes a day</td>\n",
       "      <td>35-44 years old</td>\n",
       "      <td>0.750</td>\n",
       "    </tr>\n",
       "    <tr>\n",
       "      <th>2</th>\n",
       "      <td>60-120 minutes a day</td>\n",
       "      <td>45-54 years old</td>\n",
       "      <td>1.500</td>\n",
       "    </tr>\n",
       "    <tr>\n",
       "      <th>3</th>\n",
       "      <td>15-30 minutes a day</td>\n",
       "      <td>25-34 years old</td>\n",
       "      <td>0.375</td>\n",
       "    </tr>\n",
       "    <tr>\n",
       "      <th>4</th>\n",
       "      <td>Less than 15 minutes a day</td>\n",
       "      <td>25-34 years old</td>\n",
       "      <td>0.250</td>\n",
       "    </tr>\n",
       "    <tr>\n",
       "      <th>...</th>\n",
       "      <td>...</td>\n",
       "      <td>...</td>\n",
       "      <td>...</td>\n",
       "    </tr>\n",
       "    <tr>\n",
       "      <th>28906</th>\n",
       "      <td>30-60 minutes a day</td>\n",
       "      <td>18-24 years old</td>\n",
       "      <td>0.750</td>\n",
       "    </tr>\n",
       "    <tr>\n",
       "      <th>28907</th>\n",
       "      <td>60-120 minutes a day</td>\n",
       "      <td>18-24 years old</td>\n",
       "      <td>1.500</td>\n",
       "    </tr>\n",
       "    <tr>\n",
       "      <th>28908</th>\n",
       "      <td>Less than 15 minutes a day</td>\n",
       "      <td>25-34 years old</td>\n",
       "      <td>0.250</td>\n",
       "    </tr>\n",
       "    <tr>\n",
       "      <th>28909</th>\n",
       "      <td>15-30 minutes a day</td>\n",
       "      <td>25-34 years old</td>\n",
       "      <td>0.375</td>\n",
       "    </tr>\n",
       "    <tr>\n",
       "      <th>28910</th>\n",
       "      <td>15-30 minutes a day</td>\n",
       "      <td>35-44 years old</td>\n",
       "      <td>0.375</td>\n",
       "    </tr>\n",
       "  </tbody>\n",
       "</table>\n",
       "<p>28911 rows × 3 columns</p>\n",
       "</div>"
      ],
      "text/plain": [
       "                    TimeSearching              Age  TimeSearchingHours\n",
       "0             30-60 minutes a day  35-44 years old               0.750\n",
       "1             30-60 minutes a day  35-44 years old               0.750\n",
       "2            60-120 minutes a day  45-54 years old               1.500\n",
       "3             15-30 minutes a day  25-34 years old               0.375\n",
       "4      Less than 15 minutes a day  25-34 years old               0.250\n",
       "...                           ...              ...                 ...\n",
       "28906         30-60 minutes a day  18-24 years old               0.750\n",
       "28907        60-120 minutes a day  18-24 years old               1.500\n",
       "28908  Less than 15 minutes a day  25-34 years old               0.250\n",
       "28909         15-30 minutes a day  25-34 years old               0.375\n",
       "28910         15-30 minutes a day  35-44 years old               0.375\n",
       "\n",
       "[28911 rows x 3 columns]"
      ]
     },
     "execution_count": 15,
     "metadata": {},
     "output_type": "execute_result"
    }
   ],
   "source": [
    "def convert_time(x):\n",
    "    if x == \"Less than 15 minutes a day\":\n",
    "        return 0.25\n",
    "    elif x == \"15-30 minutes a day\":\n",
    "        return 0.375 \n",
    "    elif x == \"30-60 minutes a day\":\n",
    "        return 0.75\n",
    "    elif x == \"60-120 minutes a day\":\n",
    "        return 1.5\n",
    "    elif x == \"Over 120 minutes a day\":\n",
    "        return 2\n",
    "    else:\n",
    "        return None\n",
    "\n",
    "time_age[\"TimeSearchingHours\"] = time_age[\"TimeSearching\"].apply(convert_time)\n",
    "time_age"
   ]
  },
  {
   "cell_type": "code",
   "execution_count": 16,
   "metadata": {},
   "outputs": [
    {
     "data": {
      "image/png": "[encoded data removed]",
      "text/plain": [
       "<Figure size 800x600 with 1 Axes>"
      ]
     },
     "metadata": {},
     "output_type": "display_data"
    }
   ],
   "source": [
    "plt.figure(figsize=(8,6))\n",
    "sns.histplot(data=time_age, x=\"TimeSearchingHours\", hue=\"Age\", bins=10)\n",
    "plt.show()"
   ]
  },
  {
   "cell_type": "markdown",
   "id": "495b91a1-859a-49de-b1bb-4f0396f7f9fb",
   "metadata": {},
   "source": [
    "### 3. Visualizing the Composition of Data\n"
   ]
  },
  {
   "cell_type": "markdown",
   "id": "e0438c58-7062-436e-b8ef-e7def25a0e7c",
   "metadata": {},
   "source": [
    "**3.1 Histogram of Most Desired Databases (`DatabaseWantToWorkWith`)**\n"
   ]
  },
  {
   "cell_type": "markdown",
   "id": "ab5774aa-fac6-4a41-8c2c-625100ea5f20",
   "metadata": {},
   "source": [
    "Objective: Visualize the most desired databases for future learning using a histogram of the top 5 databases.\n"
   ]
  },
  {
   "cell_type": "code",
   "execution_count": 17,
   "id": "0c0ba4c4-e884-4752-932a-2729483670c5",
   "metadata": {},
   "outputs": [
    {
     "data": {
      "text/html": [
       "<div>\n",
       "<style scoped>\n",
       "    .dataframe tbody tr th:only-of-type {\n",
       "        vertical-align: middle;\n",
       "    }\n",
       "\n",
       "    .dataframe tbody tr th {\n",
       "        vertical-align: top;\n",
       "    }\n",
       "\n",
       "    .dataframe thead th {\n",
       "        text-align: right;\n",
       "    }\n",
       "</style>\n",
       "<table border=\"1\" class=\"dataframe\">\n",
       "  <thead>\n",
       "    <tr style=\"text-align: right;\">\n",
       "      <th></th>\n",
       "      <th>DatabaseWantToWorkWith</th>\n",
       "    </tr>\n",
       "  </thead>\n",
       "  <tbody>\n",
       "    <tr>\n",
       "      <th>0</th>\n",
       "      <td>PostgreSQL</td>\n",
       "    </tr>\n",
       "    <tr>\n",
       "      <th>1</th>\n",
       "      <td>Firebase Realtime Database</td>\n",
       "    </tr>\n",
       "    <tr>\n",
       "      <th>2</th>\n",
       "      <td>MongoDB;MySQL;PostgreSQL</td>\n",
       "    </tr>\n",
       "    <tr>\n",
       "      <th>3</th>\n",
       "      <td>PostgreSQL;SQLite</td>\n",
       "    </tr>\n",
       "    <tr>\n",
       "      <th>4</th>\n",
       "      <td>Cloud Firestore</td>\n",
       "    </tr>\n",
       "    <tr>\n",
       "      <th>...</th>\n",
       "      <td>...</td>\n",
       "    </tr>\n",
       "    <tr>\n",
       "      <th>42553</th>\n",
       "      <td>Dynamodb</td>\n",
       "    </tr>\n",
       "    <tr>\n",
       "      <th>42554</th>\n",
       "      <td>BigQuery;Cassandra;Databricks SQL;DuckDB;Elast...</td>\n",
       "    </tr>\n",
       "    <tr>\n",
       "      <th>42555</th>\n",
       "      <td>Elasticsearch;PostgreSQL;Redis</td>\n",
       "    </tr>\n",
       "    <tr>\n",
       "      <th>42556</th>\n",
       "      <td>PostgreSQL;SQLite</td>\n",
       "    </tr>\n",
       "    <tr>\n",
       "      <th>42557</th>\n",
       "      <td>MongoDB;MySQL;PostgreSQL</td>\n",
       "    </tr>\n",
       "  </tbody>\n",
       "</table>\n",
       "<p>42558 rows × 1 columns</p>\n",
       "</div>"
      ],
      "text/plain": [
       "                                  DatabaseWantToWorkWith\n",
       "0                                             PostgreSQL\n",
       "1                             Firebase Realtime Database\n",
       "2                               MongoDB;MySQL;PostgreSQL\n",
       "3                                      PostgreSQL;SQLite\n",
       "4                                        Cloud Firestore\n",
       "...                                                  ...\n",
       "42553                                           Dynamodb\n",
       "42554  BigQuery;Cassandra;Databricks SQL;DuckDB;Elast...\n",
       "42555                     Elasticsearch;PostgreSQL;Redis\n",
       "42556                                  PostgreSQL;SQLite\n",
       "42557                           MongoDB;MySQL;PostgreSQL\n",
       "\n",
       "[42558 rows x 1 columns]"
      ]
     },
     "execution_count": 17,
     "metadata": {},
     "output_type": "execute_result"
    }
   ],
   "source": [
    "query = \"\"\"\n",
    "SELECT DatabaseWantToWorkWith\n",
    "FROM main\n",
    "WHERE DatabaseWantToWOrkWith IS NOT NULL\n",
    "\"\"\"\n",
    "data_work = pd.read_sql(query, conn)\n",
    "data_work"
   ]
  },
  {
   "cell_type": "code",
   "execution_count": 18,
   "metadata": {},
   "outputs": [
    {
     "data": {
      "text/plain": [
       "DatabaseWantToWorkWith\n",
       "PostgreSQL    24005\n",
       "SQLite        13489\n",
       "MySQL         12269\n",
       "MongoDB       10982\n",
       "Redis         10847\n",
       "Name: count, dtype: int64"
      ]
     },
     "execution_count": 18,
     "metadata": {},
     "output_type": "execute_result"
    }
   ],
   "source": [
    "top = data_work['DatabaseWantToWorkWith'].str.split(';').explode().reset_index(drop=True)\n",
    "top5 = top.value_counts().head()\n",
    "top5"
   ]
  },
  {
   "cell_type": "code",
   "execution_count": 19,
   "metadata": {},
   "outputs": [
    {
     "data": {
      "text/html": [
       "<div>\n",
       "<style scoped>\n",
       "    .dataframe tbody tr th:only-of-type {\n",
       "        vertical-align: middle;\n",
       "    }\n",
       "\n",
       "    .dataframe tbody tr th {\n",
       "        vertical-align: top;\n",
       "    }\n",
       "\n",
       "    .dataframe thead th {\n",
       "        text-align: right;\n",
       "    }\n",
       "</style>\n",
       "<table border=\"1\" class=\"dataframe\">\n",
       "  <thead>\n",
       "    <tr style=\"text-align: right;\">\n",
       "      <th></th>\n",
       "      <th>DatabaseWantToWorkWith</th>\n",
       "      <th>count</th>\n",
       "    </tr>\n",
       "  </thead>\n",
       "  <tbody>\n",
       "    <tr>\n",
       "      <th>0</th>\n",
       "      <td>PostgreSQL</td>\n",
       "      <td>24005</td>\n",
       "    </tr>\n",
       "    <tr>\n",
       "      <th>1</th>\n",
       "      <td>SQLite</td>\n",
       "      <td>13489</td>\n",
       "    </tr>\n",
       "    <tr>\n",
       "      <th>2</th>\n",
       "      <td>MySQL</td>\n",
       "      <td>12269</td>\n",
       "    </tr>\n",
       "    <tr>\n",
       "      <th>3</th>\n",
       "      <td>MongoDB</td>\n",
       "      <td>10982</td>\n",
       "    </tr>\n",
       "    <tr>\n",
       "      <th>4</th>\n",
       "      <td>Redis</td>\n",
       "      <td>10847</td>\n",
       "    </tr>\n",
       "  </tbody>\n",
       "</table>\n",
       "</div>"
      ],
      "text/plain": [
       "  DatabaseWantToWorkWith  count\n",
       "0             PostgreSQL  24005\n",
       "1                 SQLite  13489\n",
       "2                  MySQL  12269\n",
       "3                MongoDB  10982\n",
       "4                  Redis  10847"
      ]
     },
     "execution_count": 19,
     "metadata": {},
     "output_type": "execute_result"
    }
   ],
   "source": [
    "df_top5 = top5.reset_index()\n",
    "df_top5\n"
   ]
  },
  {
   "cell_type": "code",
   "execution_count": 20,
   "metadata": {},
   "outputs": [
    {
     "data": {
      "image/png": "[encoded data removed]",
      "text/plain": [
       "<Figure size 800x500 with 1 Axes>"
      ]
     },
     "metadata": {},
     "output_type": "display_data"
    }
   ],
   "source": [
    "df_top5.columns = ['DatabaseWantToWorkWith', 'Count']\n",
    "\n",
    "plt.figure(figsize=(8,5))\n",
    "sns.histplot(data=df_top5, x='DatabaseWantToWorkWith', weights='Count', bins=len(df_top5), color=\"skyblue\")\n",
    "plt.show()\n"
   ]
  },
  {
   "cell_type": "markdown",
   "id": "e1b61889-4caa-4e4e-8265-0c51a837a006",
   "metadata": {},
   "source": [
    "**3.2 Histogram of Preferred Work Locations (`RemoteWork`)**\n"
   ]
  },
  {
   "cell_type": "markdown",
   "id": "d57880c9-43e7-48ed-b6cf-7c9b6af6a491",
   "metadata": {},
   "source": [
    "Objective: Use a histogram to explore the distribution of preferred work arrangements (`remote work`).\n"
   ]
  },
  {
   "cell_type": "code",
   "execution_count": 21,
   "id": "5e3085ed-7ede-40e7-8850-1ca7f5d5fe21",
   "metadata": {},
   "outputs": [
    {
     "data": {
      "text/plain": [
       "RemoteWork                          \n",
       "Hybrid (some remote, some in-person)    23015\n",
       "Remote                                  20831\n",
       "In-person                               10960\n",
       "Name: count, dtype: int64"
      ]
     },
     "execution_count": 21,
     "metadata": {},
     "output_type": "execute_result"
    }
   ],
   "source": [
    "query = \"\"\"\n",
    "SELECT RemoteWork\n",
    "FROM main\n",
    "WHERE RemoteWork IS NOT NULL\n",
    "\"\"\"\n",
    "remote = pd.read_sql(query, conn)\n",
    "remote.value_counts()"
   ]
  },
  {
   "cell_type": "code",
   "execution_count": 22,
   "metadata": {},
   "outputs": [
    {
     "data": {
      "image/png": "[encoded data removed]",
      "text/plain": [
       "<Figure size 600x600 with 1 Axes>"
      ]
     },
     "metadata": {},
     "output_type": "display_data"
    }
   ],
   "source": [
    "plt.figure(figsize=(6,6))\n",
    "sns.histplot(data=remote, x='RemoteWork', bins=len(remote['RemoteWork'].unique()))\n",
    "plt.show()"
   ]
  },
  {
   "cell_type": "markdown",
   "id": "be6f05d7-5f37-412b-b975-1c0355bf730d",
   "metadata": {},
   "source": [
    "### 4. Visualizing Comparison of Data\n"
   ]
  },
  {
   "cell_type": "markdown",
   "id": "1d369a96-56cd-44eb-96bb-fd805071f83c",
   "metadata": {},
   "source": [
    "**4.1 Histogram of Median CompTotal for Ages 45 to 60**\n"
   ]
  },
  {
   "cell_type": "markdown",
   "id": "506f449e-4749-4f9e-a266-fd8562070c09",
   "metadata": {},
   "source": [
    "Objective: Plot the histogram for `CompTotal` within the age group 45 to 60 to analyze compensation distribution among mid-career respondents.\n"
   ]
  },
  {
   "cell_type": "code",
   "execution_count": 23,
   "id": "f045168a-db4c-4342-bdaa-18052c73c528",
   "metadata": {},
   "outputs": [
    {
     "data": {
      "text/plain": [
       "Age\n",
       "25-34 years old       14657\n",
       "35-44 years old        9352\n",
       "18-24 years old        4636\n",
       "45-54 years old        3516\n",
       "55-64 years old        1279\n",
       "65 years or older       196\n",
       "Under 18 years old       90\n",
       "Prefer not to say        14\n",
       "Name: count, dtype: int64"
      ]
     },
     "execution_count": 23,
     "metadata": {},
     "output_type": "execute_result"
    }
   ],
   "source": [
    "query = \"\"\"\n",
    "SELECT CompTotal, Age\n",
    "FROM main\n",
    "WHERE CompTotal IS NOT NULL\n",
    "\"\"\"\n",
    "comp = pd.read_sql(query, conn)\n",
    "comp['Age'].value_counts()"
   ]
  },
  {
   "cell_type": "code",
   "execution_count": 24,
   "metadata": {},
   "outputs": [
    {
     "data": {
      "text/html": [
       "<div>\n",
       "<style scoped>\n",
       "    .dataframe tbody tr th:only-of-type {\n",
       "        vertical-align: middle;\n",
       "    }\n",
       "\n",
       "    .dataframe tbody tr th {\n",
       "        vertical-align: top;\n",
       "    }\n",
       "\n",
       "    .dataframe thead th {\n",
       "        text-align: right;\n",
       "    }\n",
       "</style>\n",
       "<table border=\"1\" class=\"dataframe\">\n",
       "  <thead>\n",
       "    <tr style=\"text-align: right;\">\n",
       "      <th></th>\n",
       "      <th>CompTotal</th>\n",
       "      <th>Age</th>\n",
       "    </tr>\n",
       "  </thead>\n",
       "  <tbody>\n",
       "    <tr>\n",
       "      <th>6</th>\n",
       "      <td>95000.0</td>\n",
       "      <td>45-54 years old</td>\n",
       "    </tr>\n",
       "    <tr>\n",
       "      <th>9</th>\n",
       "      <td>54000.0</td>\n",
       "      <td>55-64 years old</td>\n",
       "    </tr>\n",
       "    <tr>\n",
       "      <th>15</th>\n",
       "      <td>80000.0</td>\n",
       "      <td>55-64 years old</td>\n",
       "    </tr>\n",
       "    <tr>\n",
       "      <th>35</th>\n",
       "      <td>100000.0</td>\n",
       "      <td>45-54 years old</td>\n",
       "    </tr>\n",
       "    <tr>\n",
       "      <th>50</th>\n",
       "      <td>102000.0</td>\n",
       "      <td>55-64 years old</td>\n",
       "    </tr>\n",
       "    <tr>\n",
       "      <th>...</th>\n",
       "      <td>...</td>\n",
       "      <td>...</td>\n",
       "    </tr>\n",
       "    <tr>\n",
       "      <th>33605</th>\n",
       "      <td>60000.0</td>\n",
       "      <td>45-54 years old</td>\n",
       "    </tr>\n",
       "    <tr>\n",
       "      <th>33626</th>\n",
       "      <td>100000.0</td>\n",
       "      <td>45-54 years old</td>\n",
       "    </tr>\n",
       "    <tr>\n",
       "      <th>33640</th>\n",
       "      <td>80000.0</td>\n",
       "      <td>45-54 years old</td>\n",
       "    </tr>\n",
       "    <tr>\n",
       "      <th>33705</th>\n",
       "      <td>40000.0</td>\n",
       "      <td>45-54 years old</td>\n",
       "    </tr>\n",
       "    <tr>\n",
       "      <th>33739</th>\n",
       "      <td>55000.0</td>\n",
       "      <td>45-54 years old</td>\n",
       "    </tr>\n",
       "  </tbody>\n",
       "</table>\n",
       "<p>1888 rows × 2 columns</p>\n",
       "</div>"
      ],
      "text/plain": [
       "       CompTotal              Age\n",
       "6        95000.0  45-54 years old\n",
       "9        54000.0  55-64 years old\n",
       "15       80000.0  55-64 years old\n",
       "35      100000.0  45-54 years old\n",
       "50      102000.0  55-64 years old\n",
       "...          ...              ...\n",
       "33605    60000.0  45-54 years old\n",
       "33626   100000.0  45-54 years old\n",
       "33640    80000.0  45-54 years old\n",
       "33705    40000.0  45-54 years old\n",
       "33739    55000.0  45-54 years old\n",
       "\n",
       "[1888 rows x 2 columns]"
      ]
     },
     "execution_count": 24,
     "metadata": {},
     "output_type": "execute_result"
    }
   ],
   "source": [
    "mid_career = comp[comp['Age'].isin(['45-54 years old', '55-64 years old'])]\n",
    "mid_career = mid_career[mid_career['CompTotal'] < 110000]\n",
    "mid_career"
   ]
  },
  {
   "cell_type": "code",
   "execution_count": 25,
   "metadata": {},
   "outputs": [
    {
     "data": {
      "image/png": "[encoded data removed]",
      "text/plain": [
       "<Figure size 1200x700 with 1 Axes>"
      ]
     },
     "metadata": {},
     "output_type": "display_data"
    }
   ],
   "source": [
    "plt.figure(figsize=(12,7))\n",
    "sns.histplot(data=mid_career, x='CompTotal', bins=50, kde=True)\n",
    "plt.show()"
   ]
  },
  {
   "cell_type": "markdown",
   "id": "c5239a2f-3d88-4790-8580-f4368cad50a4",
   "metadata": {},
   "source": [
    "**4.2 Histogram of Job Satisfaction (`JobSat`) by YearsCodePro**\n"
   ]
  },
  {
   "cell_type": "markdown",
   "id": "b9bb3eb1-1025-4a0b-a2ed-c506f7fe38be",
   "metadata": {},
   "source": [
    "Objective: Plot the histogram for `JobSat` scores based on respondents' years of professional coding experience.\n"
   ]
  },
  {
   "cell_type": "code",
   "execution_count": 26,
   "id": "8c607611-a591-4721-a9d6-8d6667d79b53",
   "metadata": {},
   "outputs": [
    {
     "data": {
      "text/plain": [
       "YearsCodePro\n",
       "3                     2261\n",
       "2                     2153\n",
       "5                     2016\n",
       "10                    1918\n",
       "4                     1866\n",
       "6                     1725\n",
       "8                     1588\n",
       "7                     1533\n",
       "1                     1173\n",
       "12                    1111\n",
       "9                      973\n",
       "15                     935\n",
       "20                     819\n",
       "11                     806\n",
       "Less than 1 year       780\n",
       "13                     703\n",
       "14                     629\n",
       "16                     577\n",
       "18                     526\n",
       "25                     505\n",
       "17                     481\n",
       "24                     343\n",
       "30                     318\n",
       "19                     312\n",
       "22                     275\n",
       "23                     258\n",
       "26                     243\n",
       "21                     216\n",
       "27                     212\n",
       "28                     170\n",
       "35                     122\n",
       "29                     100\n",
       "32                     100\n",
       "40                      90\n",
       "33                      72\n",
       "34                      72\n",
       "36                      64\n",
       "31                      55\n",
       "38                      53\n",
       "37                      44\n",
       "45                      30\n",
       "39                      29\n",
       "42                      24\n",
       "41                      22\n",
       "43                      16\n",
       "44                      13\n",
       "More than 50 years       8\n",
       "46                       6\n",
       "49                       4\n",
       "48                       3\n",
       "50                       2\n",
       "47                       2\n",
       "Name: count, dtype: int64"
      ]
     },
     "execution_count": 26,
     "metadata": {},
     "output_type": "execute_result"
    }
   ],
   "source": [
    "query = \"\"\"\n",
    "SELECT JobSat, YearsCodePro\n",
    "FROM main\n",
    "WHERE JobSat IS NOT NULL AND YearsCodePro IS NOT NULL\n",
    "\"\"\"\n",
    "job = pd.read_sql(query, conn)\n",
    "job['YearsCodePro'].value_counts()"
   ]
  },
  {
   "cell_type": "code",
   "execution_count": 39,
   "metadata": {},
   "outputs": [
    {
     "data": {
      "text/html": [
       "<div>\n",
       "<style scoped>\n",
       "    .dataframe tbody tr th:only-of-type {\n",
       "        vertical-align: middle;\n",
       "    }\n",
       "\n",
       "    .dataframe tbody tr th {\n",
       "        vertical-align: top;\n",
       "    }\n",
       "\n",
       "    .dataframe thead th {\n",
       "        text-align: right;\n",
       "    }\n",
       "</style>\n",
       "<table border=\"1\" class=\"dataframe\">\n",
       "  <thead>\n",
       "    <tr style=\"text-align: right;\">\n",
       "      <th></th>\n",
       "      <th>JobSat</th>\n",
       "      <th>YearsCodePro</th>\n",
       "      <th>YearsGroup</th>\n",
       "    </tr>\n",
       "  </thead>\n",
       "  <tbody>\n",
       "    <tr>\n",
       "      <th>0</th>\n",
       "      <td>8.0</td>\n",
       "      <td>12</td>\n",
       "      <td>11-20</td>\n",
       "    </tr>\n",
       "    <tr>\n",
       "      <th>1</th>\n",
       "      <td>5.0</td>\n",
       "      <td>27</td>\n",
       "      <td>21+</td>\n",
       "    </tr>\n",
       "    <tr>\n",
       "      <th>2</th>\n",
       "      <td>10.0</td>\n",
       "      <td>10</td>\n",
       "      <td>6-10</td>\n",
       "    </tr>\n",
       "    <tr>\n",
       "      <th>3</th>\n",
       "      <td>6.0</td>\n",
       "      <td>0</td>\n",
       "      <td>0-2</td>\n",
       "    </tr>\n",
       "    <tr>\n",
       "      <th>4</th>\n",
       "      <td>9.0</td>\n",
       "      <td>18</td>\n",
       "      <td>11-20</td>\n",
       "    </tr>\n",
       "    <tr>\n",
       "      <th>...</th>\n",
       "      <td>...</td>\n",
       "      <td>...</td>\n",
       "      <td>...</td>\n",
       "    </tr>\n",
       "    <tr>\n",
       "      <th>28351</th>\n",
       "      <td>8.0</td>\n",
       "      <td>17</td>\n",
       "      <td>11-20</td>\n",
       "    </tr>\n",
       "    <tr>\n",
       "      <th>28352</th>\n",
       "      <td>5.0</td>\n",
       "      <td>10</td>\n",
       "      <td>6-10</td>\n",
       "    </tr>\n",
       "    <tr>\n",
       "      <th>28353</th>\n",
       "      <td>8.0</td>\n",
       "      <td>2</td>\n",
       "      <td>0-2</td>\n",
       "    </tr>\n",
       "    <tr>\n",
       "      <th>28354</th>\n",
       "      <td>8.0</td>\n",
       "      <td>7</td>\n",
       "      <td>6-10</td>\n",
       "    </tr>\n",
       "    <tr>\n",
       "      <th>28355</th>\n",
       "      <td>8.0</td>\n",
       "      <td>18</td>\n",
       "      <td>11-20</td>\n",
       "    </tr>\n",
       "  </tbody>\n",
       "</table>\n",
       "<p>28356 rows × 3 columns</p>\n",
       "</div>"
      ],
      "text/plain": [
       "       JobSat  YearsCodePro YearsGroup\n",
       "0         8.0            12      11-20\n",
       "1         5.0            27        21+\n",
       "2        10.0            10       6-10\n",
       "3         6.0             0        0-2\n",
       "4         9.0            18      11-20\n",
       "...       ...           ...        ...\n",
       "28351     8.0            17      11-20\n",
       "28352     5.0            10       6-10\n",
       "28353     8.0             2        0-2\n",
       "28354     8.0             7       6-10\n",
       "28355     8.0            18      11-20\n",
       "\n",
       "[28356 rows x 3 columns]"
      ]
     },
     "execution_count": 39,
     "metadata": {},
     "output_type": "execute_result"
    }
   ],
   "source": [
    "def group_years(x):\n",
    "    if x <= 2:\n",
    "        return \"0-2\"\n",
    "    elif x <= 5:\n",
    "        return \"3-5\"\n",
    "    elif x <= 10:\n",
    "        return \"6-10\"\n",
    "    elif x <= 20:\n",
    "        return \"11-20\"\n",
    "    else:\n",
    "        return \"21+\"\n",
    "\n",
    "job['YearsGroup'] = job['YearsCodePro'].apply(group_years)\n",
    "job"
   ]
  },
  {
   "cell_type": "code",
   "execution_count": 41,
   "metadata": {},
   "outputs": [
    {
     "data": {
      "image/png": "[encoded data removed]",
      "text/plain": [
       "<Figure size 1200x700 with 1 Axes>"
      ]
     },
     "metadata": {},
     "output_type": "display_data"
    }
   ],
   "source": [
    "plt.figure(figsize=(12,7))\n",
    "sns.histplot(data=job,\n",
    "    x='JobSat',\n",
    "    hue='YearsGroup',\n",
    "    bins=10,\n",
    "    multiple='stack', \n",
    "    palette='viridis'\n",
    ")\n",
    "plt.show()"
   ]
  },
  {
   "cell_type": "markdown",
   "id": "021db650-b1bb-4a6a-a2c4-2549bebcf57c",
   "metadata": {},
   "source": [
    "### Final step: Close the database connection\n"
   ]
  },
  {
   "cell_type": "markdown",
   "id": "8a6a1f27-76a2-4dd8-9605-e869e353142c",
   "metadata": {},
   "source": [
    "Once you've completed the lab, make sure to close the connection to the SQLite database:\n",
    "\n"
   ]
  },
  {
   "cell_type": "code",
   "execution_count": 42,
   "id": "1b96d859-5391-4054-9a6d-9f34bb39de38",
   "metadata": {},
   "outputs": [],
   "source": [
    "conn.close()"
   ]
  },
  {
   "cell_type": "markdown",
   "id": "24b84a3f-ebfc-4a59-86bb-ce8dc24ed673",
   "metadata": {},
   "source": [
    "### Summary\n"
   ]
  },
  {
   "cell_type": "markdown",
   "id": "b90aa3fc-b456-43a4-9c82-047393e8f9e0",
   "metadata": {},
   "source": [
    "In this lab, you used histograms to visualize various aspects of the dataset, focusing on:\n",
    "\n",
    "- Distribution of compensation, coding experience, and work hours.\n",
    "\n",
    "- Relationships in compensation across age groups and work status.\n",
    "\n",
    "- Composition of data by desired databases and work environments.\n",
    "\n",
    "- Comparisons of job satisfaction across years of experience.\n",
    "\n",
    "Histograms helped reveal patterns and distributions in the data, enhancing your understanding of developer demographics and preferences.\n"
   ]
  },
  {
   "cell_type": "markdown",
   "id": "51c85d65-ca8e-4ed5-8fff-a730dfd9bf21",
   "metadata": {},
   "source": [
    "## Authors:\n",
    "Ayushi Jain\n"
   ]
  },
  {
   "cell_type": "markdown",
   "id": "cbbd17a6-e387-4fe8-bc12-76d0e46baaf7",
   "metadata": {},
   "source": [
    "### Other Contributors:\n",
    "- Rav Ahuja\n",
    "- Lakshmi Holla\n",
    "- Malika\n"
   ]
  },
  {
   "cell_type": "markdown",
   "id": "15390d0e-e9d6-4795-b886-40314dee41f1",
   "metadata": {},
   "source": [
    "Copyright © IBM Corporation. All rights reserved.\n"
   ]
  }
 ],
 "metadata": {
  "kernelspec": {
   "display_name": "Python 3",
   "language": "python",
   "name": "python3"
  },
  "language_info": {
   "codemirror_mode": {
    "name": "ipython",
    "version": 3
   },
   "file_extension": ".py",
   "mimetype": "text/x-python",
   "name": "python",
   "nbconvert_exporter": "python",
   "pygments_lexer": "ipython3",
   "version": "3.8.10"
  },
  "prev_pub_hash": "96337e0806230d5187f9ae047a46e5046c13ed59019c1578bf93b4db5d0dcf76"
 },
 "nbformat": 4,
 "nbformat_minor": 4
}
